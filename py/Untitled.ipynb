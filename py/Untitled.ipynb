{
 "cells": [
  {
   "cell_type": "code",
   "execution_count": 2,
   "id": "417eaff7-63be-47e3-9f80-45c117e7456a",
   "metadata": {
    "tags": []
   },
   "outputs": [],
   "source": [
    "from pathlib import Path\n",
    "from tqdm import tqdm\n",
    "from faster_whisper import WhisperModel"
   ]
  },
  {
   "cell_type": "code",
   "execution_count": null,
   "id": "450b47c3-729a-4e50-9634-9d6f9bd18aaa",
   "metadata": {
    "tags": []
   },
   "outputs": [
    {
     "name": "stderr",
     "output_type": "stream",
     "text": [
      "Converting WAV to SRT:   0%|          | 0/1 [00:00<?, ?it/s]"
     ]
    }
   ],
   "source": [
    "def convert_wav_to_srt(source_folder, model_name='large-v2'):\n",
    "    source_folder = Path(source_folder)\n",
    "    model = WhisperModel(model_name, device=\"cuda\", compute_type=\"float16\")\n",
    "\n",
    "    for wav_file in tqdm(list(source_folder.glob('*.wav')), desc='Converting WAV to SRT'):\n",
    "        segments, info = model.transcribe(\n",
    "            str(wav_file), vad_filter=True, beam_size=5, \n",
    "            vad_parameters=dict(min_silence_duration_ms=500),\n",
    "        )\n",
    "        print(\"Detected language '%s' with probability %f\" % (info.language, info.language_probability))\n",
    "        segments = list(segments)\n",
    "\n",
    "        srt_file = wav_file.with_suffix('.srt')\n",
    "        with open(srt_file, 'w') as file:\n",
    "            for i, segment in enumerate(segments):\n",
    "                start_time, end_time, transcript = segment\n",
    "                file.write(f'{i+1}\\n{start_time} --> {end_time}\\n{transcript}\\n\\n')\n",
    "\n",
    "# 使用範例\n",
    "source_folder = 'audio'\n",
    "convert_wav_to_srt(source_folder, \"bababababooey/faster-whisper-large-v3\")\n"
   ]
  },
  {
   "cell_type": "code",
   "execution_count": null,
   "id": "4718eb8c-3801-4792-b2e6-5a97eaa53958",
   "metadata": {
    "tags": []
   },
   "outputs": [
    {
     "name": "stderr",
     "output_type": "stream",
     "text": [
      "Converting WAV to SRT:   0%|          | 0/1 [00:00<?, ?it/s]"
     ]
    }
   ],
   "source": [
    "def convert_wav_to_srt(source_folder, model_name='large-v2'):\n",
    "    source_folder = Path(source_folder)\n",
    "    model = WhisperModel(model_name, device=\"cuda\", compute_type=\"float16\")\n",
    "\n",
    "    for wav_file in tqdm(list(source_folder.glob('*.*')), desc='Converting WAV to SRT'):\n",
    "        segments, info = model.transcribe(\n",
    "            str(wav_file), vad_filter=True, beam_size=5, \n",
    "            vad_parameters=dict(min_silence_duration_ms=500),\n",
    "        )\n",
    "        print(\"Detected language '%s' with probability %f\" % (info.language, info.language_probability))\n",
    "        # segments = list(segments)\n",
    "\n",
    "        for i, segment in enumerate(segments):\n",
    "            print(segment)\n",
    "         #   print(f'{i+1}\\n{start_time} --> {end_time}\\n{transcript}\\n\\n')\n",
    "\n",
    "# 使用範例\n",
    "source_folder = 'audio/correct'\n",
    "convert_wav_to_srt(source_folder)\n"
   ]
  },
  {
   "cell_type": "code",
   "execution_count": 29,
   "id": "240810d9-55e9-4b22-b5c2-e73f77f6fb13",
   "metadata": {},
   "outputs": [
    {
     "data": {
      "text/plain": [
       "'01:200.00:300.00,400.000'"
      ]
     },
     "execution_count": 29,
     "metadata": {},
     "output_type": "execute_result"
    }
   ],
   "source": [
    "x = '{:02}:{:.2f}:{:.2f},{:.3f}'\n",
    "\n",
    "x.format(1,200,300,400)"
   ]
  },
  {
   "cell_type": "code",
   "execution_count": null,
   "id": "e9f7fc44-031f-4add-ab23-0efc90c78844",
   "metadata": {},
   "outputs": [],
   "source": []
  }
 ],
 "metadata": {
  "kernelspec": {
   "display_name": "Python 3 (ipykernel)",
   "language": "python",
   "name": "python3"
  },
  "language_info": {
   "codemirror_mode": {
    "name": "ipython",
    "version": 3
   },
   "file_extension": ".py",
   "mimetype": "text/x-python",
   "name": "python",
   "nbconvert_exporter": "python",
   "pygments_lexer": "ipython3",
   "version": "3.10.13"
  }
 },
 "nbformat": 4,
 "nbformat_minor": 5
}
